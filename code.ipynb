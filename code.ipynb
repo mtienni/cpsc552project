{
  "cells": [
    {
      "cell_type": "markdown",
      "metadata": {},
      "source": [
        "# Entropy-regularized Contextual Dropout"
      ]
    },
    {
      "cell_type": "markdown",
      "metadata": {
        "id": "meZM-C9IBnCi"
      },
      "source": [
        "## Environment Setup "
      ]
    },
    {
      "cell_type": "code",
      "execution_count": 2,
      "metadata": {
        "colab": {
          "base_uri": "https://localhost:8080/"
        },
        "id": "q8FSpOTjBnCi",
        "outputId": "03e65320-6ebe-42a4-8aad-53123472d733"
      },
      "outputs": [
        {
          "name": "stdout",
          "output_type": "stream",
          "text": [
            "Channels:\n",
            " - defaults\n",
            "Platform: osx-64\n",
            "Collecting package metadata (repodata.json): done\n",
            "Solving environment: done\n",
            "\n",
            "## Package Plan ##\n",
            "\n",
            "  environment location: /Users/a/.pyenv/versions/anaconda3-2024.10-1/envs/project\n",
            "\n",
            "  added / updated specs:\n",
            "    - matplotlib\n",
            "    - numpy\n",
            "    - pytorch\n",
            "    - torchvision\n",
            "    - tqdm\n",
            "\n",
            "\n",
            "The following packages will be downloaded:\n",
            "\n",
            "    package                    |            build\n",
            "    ---------------------------|-----------------\n",
            "    ca-certificates-2025.2.25  |       hecd8cb5_0         131 KB\n",
            "    certifi-2025.4.26          |  py312hecd8cb5_0         157 KB\n",
            "    matplotlib-3.9.2           |  py312hecd8cb5_1           8 KB\n",
            "    openssl-3.0.16             |       h184c1cd_0         4.6 MB\n",
            "    pytorch-2.3.1              |cpu_py312hf01ac55_0        61.4 MB\n",
            "    torchvision-0.18.1         |cpu_py312h937ada3_0         9.5 MB\n",
            "    tqdm-4.67.1                |  py312h8e4b320_0         160 KB\n",
            "    ------------------------------------------------------------\n",
            "                                           Total:        75.9 MB\n",
            "\n",
            "The following NEW packages will be INSTALLED:\n",
            "\n",
            "  pytorch            pkgs/main/osx-64::pytorch-2.3.1-cpu_py312hf01ac55_0 \n",
            "  torchvision        pkgs/main/osx-64::torchvision-0.18.1-cpu_py312h937ada3_0 \n",
            "\n",
            "The following packages will be UPDATED:\n",
            "\n",
            "  ca-certificates                      2024.9.24-hecd8cb5_0 --> 2025.2.25-hecd8cb5_0 \n",
            "  certifi                         2024.8.30-py312hecd8cb5_0 --> 2025.4.26-py312hecd8cb5_0 \n",
            "  matplotlib                          3.9.2-py312hecd8cb5_0 --> 3.9.2-py312hecd8cb5_1 \n",
            "  openssl                                 3.0.15-h46256e1_0 --> 3.0.16-h184c1cd_0 \n",
            "  tqdm                               4.66.5-py312h8e4b320_0 --> 4.67.1-py312h8e4b320_0 \n",
            "\n",
            "\n",
            "\n",
            "Downloading and Extracting Packages:\n",
            "pytorch-2.3.1        | 61.4 MB   |                                       |   0% \n",
            "torchvision-0.18.1   | 9.5 MB    |                                       |   0% \u001b[A\n",
            "\n",
            "openssl-3.0.16       | 4.6 MB    |                                       |   0% \u001b[A\u001b[A\n",
            "\n",
            "\n",
            "tqdm-4.67.1          | 160 KB    |                                       |   0% \u001b[A\u001b[A\u001b[A\n",
            "\n",
            "\n",
            "\n",
            "certifi-2025.4.26    | 157 KB    |                                       |   0% \u001b[A\u001b[A\u001b[A\u001b[A\n",
            "\n",
            "\n",
            "\n",
            "\n",
            "ca-certificates-2025 | 131 KB    |                                       |   0% \u001b[A\u001b[A\u001b[A\u001b[A\u001b[A\n",
            "\n",
            "\n",
            "\n",
            "\n",
            "\n",
            "matplotlib-3.9.2     | 8 KB      |                                       |   0% \u001b[A\u001b[A\u001b[A\u001b[A\u001b[A\u001b[A\n",
            "\n",
            "\n",
            "\n",
            "pytorch-2.3.1        | 61.4 MB   |                                       |   0% \u001b[A\u001b[A\u001b[A\u001b[A\n",
            "\n",
            "openssl-3.0.16       | 4.6 MB    | 1                                     |   0% \u001b[A\u001b[A\n",
            "torchvision-0.18.1   | 9.5 MB    |                                       |   0% \u001b[A\n",
            "\n",
            "\n",
            "tqdm-4.67.1          | 160 KB    | ###7                                  |  10% \u001b[A\u001b[A\u001b[A\n",
            "\n",
            "\n",
            "\n",
            "pytorch-2.3.1        | 61.4 MB   | 5                                     |   2% \u001b[A\u001b[A\u001b[A\u001b[A\n",
            "\n",
            "\n",
            "\n",
            "\n",
            "ca-certificates-2025 | 131 KB    | ####5                                 |  12% \u001b[A\u001b[A\u001b[A\u001b[A\u001b[A\n",
            "torchvision-0.18.1   | 9.5 MB    | ##4                                   |   7% \u001b[A\n",
            "\n",
            "openssl-3.0.16       | 4.6 MB    | ####5                                 |  12% \u001b[A\u001b[A\n",
            "\n",
            "\n",
            "tqdm-4.67.1          | 160 KB    | ##################################### | 100% \u001b[A\u001b[A\u001b[A\n",
            "\n",
            "\n",
            "tqdm-4.67.1          | 160 KB    | ##################################### | 100% \u001b[A\u001b[A\u001b[A\n",
            "\n",
            "\n",
            "\n",
            "\n",
            "ca-certificates-2025 | 131 KB    | ##################################### | 100% \u001b[A\u001b[A\u001b[A\u001b[A\u001b[A\n",
            "\n",
            "\n",
            "\n",
            "\n",
            "\n",
            "matplotlib-3.9.2     | 8 KB      | ##################################### | 100% \u001b[A\u001b[A\u001b[A\u001b[A\u001b[A\u001b[A\n",
            "\n",
            "\n",
            "\n",
            "\n",
            "\n",
            "pytorch-2.3.1        | 61.4 MB   | #6                                    |   4% \u001b[A\u001b[A\u001b[A\u001b[A\u001b[A\u001b[A\n",
            "torchvision-0.18.1   | 9.5 MB    | #######7                              |  21% \u001b[A\n",
            "\n",
            "pytorch-2.3.1        | 61.4 MB   | ##8                                   |   8% \u001b[A\u001b[A\n",
            "torchvision-0.18.1   | 9.5 MB    | #################                     |  46% \u001b[A\n",
            "\n",
            "pytorch-2.3.1        | 61.4 MB   | ####3                                 |  12% \u001b[A\u001b[A\n",
            "pytorch-2.3.1        | 61.4 MB   | ######5                               |  18% \u001b[A\n",
            "\n",
            "pytorch-2.3.1        | 61.4 MB   | ###############3                      |  41% \u001b[A\u001b[A\n",
            "torchvision-0.18.1   | 9.5 MB    | ##################################### | 100% \u001b[A\n",
            "                                                                                \u001b[A\n",
            "                                                                                \u001b[A\n",
            "\n",
            "                                                                                \u001b[A\u001b[A\n",
            "\n",
            "\n",
            "                                                                                \u001b[A\u001b[A\u001b[A\n",
            "\n",
            "\n",
            "\n",
            "                                                                                \u001b[A\u001b[A\u001b[A\u001b[A\n",
            "\n",
            "\n",
            "\n",
            "\n",
            "                                                                                \u001b[A\u001b[A\u001b[A\u001b[A\u001b[A\n",
            "\n",
            "\n",
            "\n",
            "\n",
            "\n",
            "                                                                                \u001b[A\u001b[A\u001b[A\u001b[A\u001b[A\u001b[A\n",
            "Preparing transaction: done\n",
            "Verifying transaction: done\n",
            "Executing transaction: done\n",
            "\n",
            "Note: you may need to restart the kernel to use updated packages.\n"
          ]
        }
      ],
      "source": [
        "%conda install numpy matplotlib tqdm pytorch torchvision"
      ]
    },
    {
      "cell_type": "code",
      "execution_count": 1,
      "metadata": {
        "colab": {
          "base_uri": "https://localhost:8080/"
        },
        "id": "9iNAucyeBnCj",
        "outputId": "90dfa9ff-e8cb-4401-9e22-019aa3b013c6"
      },
      "outputs": [
        {
          "data": {
            "text/plain": [
              "<torch._C.Generator at 0x119251770>"
            ]
          },
          "execution_count": 1,
          "metadata": {},
          "output_type": "execute_result"
        }
      ],
      "source": [
        "from typing import Callable\n",
        "\n",
        "import torch\n",
        "import torch.nn as nn            # neural network modules\n",
        "import torch.nn.functional as F  # activation functions\n",
        "import torch.optim as optim      # optimizer\n",
        "import torch.utils.data          # dataloader\n",
        "import torchvision.datasets as datasets\n",
        "\n",
        "import numpy as np\n",
        "import matplotlib.pyplot as plt\n",
        "import tqdm\n",
        "\n",
        "torch.manual_seed(42)"
      ]
    },
    {
      "cell_type": "markdown",
      "metadata": {},
      "source": [
        "We will use MNIST as the benchmark as in the reference paper (see Appendix C1)."
      ]
    },
    {
      "cell_type": "code",
      "execution_count": 2,
      "metadata": {
        "colab": {
          "base_uri": "https://localhost:8080/",
          "height": 1000
        },
        "id": "qpxqVuOdBnCj",
        "outputId": "33c7e1fc-40c7-4fe2-f668-615609c0f4c2"
      },
      "outputs": [],
      "source": [
        "# Download the MNIST dataset\n",
        "mnist_train = datasets.MNIST(root='./data', train=True, download=True, transform=None)\n",
        "mnist_test = datasets.MNIST(root='./data', train=False, download=True, transform=None)\n",
        "\n",
        "# Load into torch datasets\n",
        "train_dataset = torch.utils.data.TensorDataset(mnist_train.data.unsqueeze(1).float(), mnist_train.targets.long())\n",
        "test_dataset = torch.utils.data.TensorDataset(mnist_test.data.unsqueeze(1).float(), mnist_test.targets.long())\n"
      ]
    },
    {
      "cell_type": "markdown",
      "metadata": {},
      "source": [
        "## Contextual Dropout Modules"
      ]
    },
    {
      "cell_type": "markdown",
      "metadata": {},
      "source": [
        "We implement contextual dropout in two parts:\n",
        "\n",
        "* The module `ContextualDropoutMask` is a neural net\n",
        "computing the dropout mask for an input $x$\n",
        "as a function of $x$. \n",
        "\n",
        "* The function `EntropyRegularizer` is used as a regularizer \n",
        "during training to train the contextual dropout neural net. "
      ]
    },
    {
      "cell_type": "code",
      "execution_count": 9,
      "metadata": {},
      "outputs": [],
      "source": [
        "class ContextualDropoutMask(nn.Module):\n",
        "    def __init__(\n",
        "        self,\n",
        "        input_dim,\n",
        "        bottleneck_factor = 10, # the \\gamma in the paper\n",
        "        activation_fn: Callable = F.gelu,\n",
        "    ):\n",
        "        super().__init__()\n",
        "        self.input_dim = input_dim\n",
        "        self.hidden_dim = input_dim // bottleneck_factor + 1\n",
        "        self.activation_fn = activation_fn\n",
        "\n",
        "        self.w1 = nn.Linear(self.input_dim, self.hidden_dim)\n",
        "        self.w2 = nn.Linear(self.hidden_dim, self.input_dim) # output dim must match input\n",
        "\n",
        "    def forward(self, x):\n",
        "        x = self.w1(x)\n",
        "        x = self.activation_fn(x)\n",
        "\n",
        "        logits = self.w2(x)\n",
        "        # transform to probabilities mask\n",
        "        mask = F.sigmoid(logits)\n",
        "        return mask"
      ]
    },
    {
      "cell_type": "code",
      "execution_count": 114,
      "metadata": {},
      "outputs": [],
      "source": [
        "class EntropyRegularizer(nn.Module):\n",
        "    \"\"\"\n",
        "    Computes the regularization loss\n",
        "    using relative entropy\n",
        "    with respect to a Bernoulli distribution\n",
        "    with probability p_target\n",
        "    \"\"\"\n",
        "    def __init__(\n",
        "            self,\n",
        "            p_target,\n",
        "            eps=1e-8 # must specify some precision or it'll bug out #TODO maybe unnecessary with builtin nn.BCELoss?\n",
        "    ):\n",
        "        super().__init__()\n",
        "        self.p_target = p_target\n",
        "        self.cross_entropy = nn.BCELoss()\n",
        "\n",
        "    def forward(self, p):\n",
        "        # the target map\n",
        "        target = torch.full_like(p, self.p_target)\n",
        "\n",
        "        loss = self.cross_entropy(p, target) # note the opposite convention used in nn.BCELoss\n",
        "        return loss\n",
        "\n",
        "\n"
      ]
    },
    {
      "cell_type": "markdown",
      "metadata": {},
      "source": [
        "## Building the two networks\n",
        "\n",
        "To measure performance against regular dropout,\n",
        "we implement the same task with two neural networks\n",
        "which only differ in the kind of dropout used."
      ]
    },
    {
      "cell_type": "code",
      "execution_count": 116,
      "metadata": {},
      "outputs": [],
      "source": [
        "class SimpleMLP(nn.Module): # the control net\n",
        "    def __init__(\n",
        "        self,\n",
        "        input_dim: int = 784,\n",
        "        output_dim: int = 10,\n",
        "        hidden_dim_list: list = [100, 100],\n",
        "        activation_fn: Callable = F.gelu,\n",
        "        dropout_prob: float = 0.2,\n",
        "    ):\n",
        "        super().__init__()\n",
        "        self.input_dim = input_dim\n",
        "        self.output_dim = output_dim\n",
        "        self.hidden_dim_list = hidden_dim_list\n",
        "        self.activation_fn = activation_fn\n",
        "        self.dropout = torch.nn.Dropout(p = dropout_prob) # simple, global dropout\n",
        "\n",
        "        self.hidden_layers = nn.ModuleList() # for the hidden layers, see https://pytorch.org/docs/stable/generated/torch.nn.ModuleList.html\n",
        "        current_dim = self.input_dim\n",
        "        for dim in self.hidden_dim_list:\n",
        "            self.hidden_layers.append(\n",
        "                nn.Linear(current_dim, dim)\n",
        "            )\n",
        "            current_dim = dim\n",
        "        self.last_layer = nn.Linear(current_dim, self.output_dim)\n",
        "\n",
        "    def forward(self, x):\n",
        "        # flatten the input for the MLP\n",
        "        x = x.view(x.size(0), -1)\n",
        "        if self.training:\n",
        "            x = self.dropout(x)\n",
        "        for hidden_layer in self.hidden_layers:\n",
        "            x = hidden_layer(x)\n",
        "            if self.training:\n",
        "                x = self.dropout(x)\n",
        "            x = self.activation_fn(x)\n",
        "        \n",
        "        x = self.last_layer(x) \n",
        "        return x"
      ]
    },
    {
      "cell_type": "code",
      "execution_count": 117,
      "metadata": {},
      "outputs": [],
      "source": [
        "class ContextualDropoutMLP(nn.Module):\n",
        "    def __init__(\n",
        "        self,\n",
        "        input_dim: int = 784,\n",
        "        output_dim: int = 10,\n",
        "        hidden_dim_list: list = [100, 100],\n",
        "        activation_fn: Callable = F.gelu,\n",
        "        dropout_prob: float = 0.2,\n",
        "    ):\n",
        "        super().__init__()\n",
        "        self.input_dim = input_dim\n",
        "        self.output_dim = output_dim\n",
        "        self.hidden_dim_list = hidden_dim_list\n",
        "        self.activation_fn = activation_fn\n",
        "        self.dropout_prob = dropout_prob\n",
        "\n",
        "        self.hidden_layers = nn.ModuleList() # for the hidden layers, see https://pytorch.org/docs/stable/generated/torch.nn.ModuleList.html\n",
        "        current_dim = self.input_dim\n",
        "        for dim in self.hidden_dim_list:\n",
        "            self.hidden_layers.append(\n",
        "                nn.Linear(current_dim, dim)\n",
        "            )\n",
        "            current_dim = dim\n",
        "\n",
        "        self.last_layer = nn.Linear(current_dim, self.output_dim)\n",
        "\n",
        "        # haven't found a clean way to do this,\n",
        "        # but we must store the losses for each dropout\n",
        "        # computed during a forward pass.\n",
        "        # we start by storing each dropout module:\n",
        "        self.dropout_modules = nn.ModuleList()\n",
        "        self.dropout_modules.append(\n",
        "            ContextualDropoutMask(input_dim=self.input_dim)\n",
        "        )\n",
        "        for dim in self.hidden_dim_list:\n",
        "            self.dropout_modules.append(\n",
        "                ContextualDropoutMask(input_dim=dim)\n",
        "            )\n",
        "        # we now attach hooks to each dropout module:\n",
        "        # see https://pytorch.org/docs/stable/generated/torch.nn.Module.html#torch.nn.Module.register_forward_hook\n",
        "        self.dropout_losses = []\n",
        "        for module in self.dropout_modules:\n",
        "            module.register_forward_hook(self.hook_init())\n",
        "\n",
        "    def hook_init(self):\n",
        "        keep_p_target = 1.0 - self.dropout_prob\n",
        "        loss_fn = EntropyRegularizer(p_target=keep_p_target)\n",
        "        def hook(module, input, output):\n",
        "            p = output\n",
        "            loss = loss_fn(p)\n",
        "            self.dropout_losses.append(loss)\n",
        "        return hook\n",
        "\n",
        "\n",
        "    def forward(self, x):\n",
        "        # flatten the input for the MLP\n",
        "        x = x.view(x.size(0), -1)\n",
        "        self.dropout_losses = []\n",
        "        if self.training:\n",
        "            drop = self.dropout_modules[0]\n",
        "            p = drop(x)\n",
        "            mask = torch.bernoulli(p)\n",
        "            x = x * mask\n",
        "        for l, hidden_layer in enumerate(self.hidden_layers):\n",
        "            x = hidden_layer(x)\n",
        "            if self.training:\n",
        "                drop = self.dropout_modules[l + 1]\n",
        "                p = drop(x)\n",
        "                mask = torch.bernoulli(p)\n",
        "                x = x * mask\n",
        "            x = self.activation_fn(x)\n",
        "        x = self.last_layer(x) \n",
        "        return x"
      ]
    },
    {
      "cell_type": "markdown",
      "metadata": {
        "id": "JzOlanTJBnCl"
      },
      "source": [
        "## Training\n",
        "\n",
        "This training function is modified from the CNN from Problem 5 in the first assignment."
      ]
    },
    {
      "cell_type": "code",
      "execution_count": 118,
      "metadata": {
        "id": "f8eeL3bkBnCl"
      },
      "outputs": [],
      "source": [
        "def plot_metrics(train_metrics, test_metrics, xlabel, ylabel, title):\n",
        "    plt.plot(train_metrics, label=\"Training\")\n",
        "    plt.plot(test_metrics, label=\"Testing\")\n",
        "    plt.xlabel(xlabel)\n",
        "    plt.ylabel(ylabel)\n",
        "    plt.title(title)\n",
        "    plt.legend()\n",
        "    plt.show()\n",
        "\n",
        "def train(model, loss_fn, train_loader, test_loader, optimizer, epochs=5, lambda_dropout=1.0):\n",
        "    \"\"\"Train the model.\n",
        "    Args:\n",
        "        model: the model\n",
        "        loss_fn: the loss function\n",
        "        train_loader: the training data loader\n",
        "        test_loader: the testing data loader\n",
        "        optimizer: the optimizer\n",
        "        epochs: the number of epochs to train\n",
        "    Returns:\n",
        "        train_losses: the training losses\n",
        "        test_losses: the testing losses\n",
        "    \"\"\"\n",
        "    train_losses = []\n",
        "    test_losses = []\n",
        "    train_accuracies = []\n",
        "    test_accuracies = []\n",
        "\n",
        "    loop = tqdm.tqdm(range(1, epochs + 1))\n",
        "\n",
        "    for epoch in loop:\n",
        "        # train the model for one epoch\n",
        "        train_loss, train_accuracy = train_epoch(model, loss_fn, train_loader, optimizer, lambda_dropout=lambda_dropout)\n",
        "        train_losses.append(train_loss)\n",
        "        train_accuracies.append(train_accuracy)\n",
        "\n",
        "        # test the model for one epoch\n",
        "        test_loss, test_accuracy = test_epoch(model, loss_fn, test_loader)\n",
        "        test_losses.append(test_loss)\n",
        "        test_accuracies.append(test_accuracy)\n",
        "\n",
        "        loop.set_description(f'Epoch {epoch}')\n",
        "        loop.set_postfix(train_loss=train_loss, test_loss=test_loss, train_accuracy=train_accuracy, test_accuracy=test_accuracy)\n",
        "    return train_losses, test_losses, train_accuracies, test_accuracies\n",
        "\n",
        "\n",
        "def train_epoch(model, loss_fn, train_loader, optimizer, lambda_dropout=1.0):\n",
        "    \"\"\"Train the model for one epoch.\n",
        "    Args:\n",
        "        model: the model\n",
        "        loss_fn: the loss function\n",
        "        train_loader: the training data loader\n",
        "        optimizer: the optimizer\n",
        "    Returns:\n",
        "        train_loss: the loss of the epoch\n",
        "    \"\"\"\n",
        "    model.train()  # set model to training mode\n",
        "    total_train_loss = 0\n",
        "    total_correct = 0\n",
        "    total_samples = 0\n",
        "    train_accuracy = 0\n",
        "\n",
        "    for batch_idx, (data, target) in enumerate(train_loader): # Q: why do we care about batch_idx?\n",
        "        optimizer.zero_grad()\n",
        "\n",
        "        output = model(data)\n",
        "        task_loss = loss_fn(output, target)\n",
        "\n",
        "        # inelegant hack\n",
        "        # to determine whether we're training\n",
        "        # our module or the control\n",
        "        if hasattr(model, 'dropout_losses') and model.dropout_losses:\n",
        "            entropy_reg = sum(model.dropout_losses)\n",
        "        else:\n",
        "            entropy_reg = 0.0\n",
        "        \n",
        "        loss = task_loss + lambda_dropout * entropy_reg\n",
        "\n",
        "        loss.backward()\n",
        "        optimizer.step()\n",
        "\n",
        "        # train_loss += loss.item()\n",
        "        total_train_loss += loss.item() * data.size(0)\n",
        "\n",
        "        _, predicted = torch.max(output.data, 1)\n",
        "\n",
        "        total_correct += (predicted == target).sum().item()\n",
        "\n",
        "        total_samples += target.size(0)\n",
        "\n",
        "        # correct = sum([pred == actual for pred, actual in zip(predicted, target)]).item()\n",
        "        # train_accuracy += correct / len(output)\n",
        "\n",
        "    # batches = len(train_loader)\n",
        "    train_loss = total_train_loss / total_samples\n",
        "    train_accuracy = total_correct / total_samples\n",
        "\n",
        "    return train_loss, train_accuracy\n",
        "\n",
        "def test_epoch(model, loss_fn, test_loader):\n",
        "    \"\"\"Test the model for one epoch.\n",
        "    Args:\n",
        "        model: the model\n",
        "        loss_fn: the loss function\n",
        "        test_loader: the testing data loader\n",
        "    Returns:\n",
        "        test_loss: the loss of the epoch\n",
        "    \"\"\"\n",
        "    model.eval()  # set model to evaluation mode\n",
        "    total_test_loss = 0\n",
        "    total_correct = 0\n",
        "    total_samples = 0\n",
        "    test_accuracy = 0\n",
        "\n",
        "    with torch.no_grad():  # disable gradient calculation\n",
        "        for data, target in test_loader:\n",
        "            output = model(data)\n",
        "            loss = loss_fn(output, target)\n",
        "\n",
        "            total_test_loss += loss.item() * data.size(0)\n",
        "            # test_loss += loss.item()\n",
        "\n",
        "            _, predicted = torch.max(output.data, 1)\n",
        "            total_correct += (predicted == target).sum().item()\n",
        "            total_samples += target.size(0)\n",
        "\n",
        "            # correct = sum([pred == actual for pred, actual in zip(predicted, target)]).item()\n",
        "            # test_accuracy += correct / len(output)\n",
        "\n",
        "        # batches = len(test_loader)\n",
        "        test_loss = total_test_loss / total_samples\n",
        "        test_accuracy = total_correct / total_samples\n",
        "\n",
        "    return test_loss, test_accuracy"
      ]
    },
    {
      "cell_type": "markdown",
      "metadata": {},
      "source": [
        "## Finding the best $\\lambda$\n",
        "\n",
        "The new loss function involves a hyperparameter $\\lambda$,\n",
        "which needs to be tuned.\n",
        "We use a simple order-of-magnitude (logarithmic) grid search to find the best one for our task."
      ]
    },
    {
      "cell_type": "code",
      "execution_count": 125,
      "metadata": {},
      "outputs": [
        {
          "name": "stderr",
          "output_type": "stream",
          "text": [
            "Epoch 30: 100%|██████████| 30/30 [12:32<00:00, 25.08s/it, test_accuracy=0.98, test_loss=0.15, train_accuracy=0.972, train_loss=0.249]  \n",
            "Epoch 30: 100%|██████████| 30/30 [10:35<00:00, 21.19s/it, test_accuracy=0.977, test_loss=0.147, train_accuracy=0.972, train_loss=1.61]\n",
            "Epoch 30: 100%|██████████| 30/30 [09:32<00:00, 19.09s/it, test_accuracy=0.978, test_loss=0.145, train_accuracy=0.973, train_loss=15.1]"
          ]
        },
        {
          "name": "stdout",
          "output_type": "stream",
          "text": [
            "best lambda: 0.1\n",
            "best accuracy: 0.97994\n"
          ]
        },
        {
          "name": "stderr",
          "output_type": "stream",
          "text": [
            "\n"
          ]
        }
      ],
      "source": [
        "batch_size = 128\n",
        "learning_rate = 1e-3\n",
        "epochs = 30\n",
        "input_dim = 784\n",
        "hidden_dim_list = [300, 100]\n",
        "output_dim = 10\n",
        "\n",
        "loss_fn = torch.nn.CrossEntropyLoss()\n",
        "\n",
        "train_loader = torch.utils.data.DataLoader(train_dataset, batch_size=batch_size, shuffle=True) # Shuffle since we're looping this\n",
        "test_loader = torch.utils.data.DataLoader(test_dataset, batch_size=batch_size)\n",
        "\n",
        "lambda_exp_list = np.arange(-1.0, 1.1, 1.0) \n",
        "lambdas = 10 ** lambda_exp_list\n",
        "\n",
        "best_acc = 0.0\n",
        "best_lambda = lambdas[0]\n",
        "for current_lambda in lambdas:\n",
        "    model = ContextualDropoutMLP(input_dim=input_dim, output_dim=output_dim, hidden_dim_list=hidden_dim_list, dropout_prob=0.2)\n",
        "    optimizer = torch.optim.Adam(model.parameters(), lr=learning_rate, weight_decay=1e-4)\n",
        "    train_losses, test_losses, train_accuracies, test_accuracies = train(model, loss_fn, train_loader, test_loader, optimizer, epochs=epochs, lambda_dropout=current_lambda)\n",
        "    best_test_acc = np.average(test_accuracies[-5:]) # compute average to account for noise\n",
        "    if best_test_acc > best_acc:\n",
        "        best_acc = best_test_acc\n",
        "        best_lambda = current_lambda\n",
        "\n",
        "    \n",
        "print(f\"best lambda: {best_lambda}\")\n",
        "print(f\"best accuracy: {best_acc}\")"
      ]
    },
    {
      "cell_type": "markdown",
      "metadata": {},
      "source": [
        "This returns $\\lambda = 0.1 $, which will be used in what follows."
      ]
    },
    {
      "cell_type": "markdown",
      "metadata": {
        "id": "9tjwMsv5BnCl"
      },
      "source": [
        "## Comparing performance\n",
        "\n",
        "We now compare the performance of our model with that of the control.\n",
        "We keep all comparable values the same."
      ]
    },
    {
      "cell_type": "markdown",
      "metadata": {},
      "source": [
        "### Our model:"
      ]
    },
    {
      "cell_type": "code",
      "execution_count": 126,
      "metadata": {
        "colab": {
          "base_uri": "https://localhost:8080/",
          "height": 541
        },
        "id": "Oehm3WU8BnCl",
        "outputId": "01094477-d01c-4b8b-a8f0-9a0c0cce103a"
      },
      "outputs": [
        {
          "name": "stderr",
          "output_type": "stream",
          "text": [
            "Epoch 60: 100%|██████████| 60/60 [23:23<00:00, 23.39s/it, test_accuracy=0.978, test_loss=0.189, train_accuracy=0.975, train_loss=4.62]\n"
          ]
        },
        {
          "data": {
            "image/png": "[encoded data removed]",
            "text/plain": [
              "<Figure size 640x480 with 1 Axes>"
            ]
          },
          "metadata": {},
          "output_type": "display_data"
        },
        {
          "data": {
            "image/png": "[encoded data removed]",
            "text/plain": [
              "<Figure size 640x480 with 1 Axes>"
            ]
          },
          "metadata": {},
          "output_type": "display_data"
        }
      ],
      "source": [
        "batch_size = 128\n",
        "learning_rate = 1e-3\n",
        "epochs = 60\n",
        "input_dim = 784\n",
        "hidden_dim_list = [300, 100]\n",
        "output_dim = 10\n",
        "lambda_mult = 3.0\n",
        "\n",
        "model = ContextualDropoutMLP(input_dim=input_dim, output_dim=output_dim, hidden_dim_list=hidden_dim_list, dropout_prob=0.2)\n",
        "loss_fn = torch.nn.CrossEntropyLoss()\n",
        "optimizer = torch.optim.Adam(model.parameters(), lr=learning_rate, weight_decay=1e-4)\n",
        "\n",
        "train_loader = torch.utils.data.DataLoader(train_dataset, batch_size=batch_size)\n",
        "test_loader = torch.utils.data.DataLoader(test_dataset, batch_size=batch_size)\n",
        "\n",
        "train_losses, test_losses, train_accuracies, test_accuracies = train(model, loss_fn, train_loader, test_loader, optimizer, epochs=epochs, lambda_dropout=lambda_mult)\n",
        "\n",
        "#save model\n",
        "save_path = 'data/model.pth'\n",
        "torch.save(model.state_dict(), save_path)\n",
        "\n",
        "plt.subplot(2, 1, 1)\n",
        "plot_metrics(train_losses, test_losses, xlabel=\"Epoch\", ylabel=\"Loss\", title=\"Loss\")\n",
        "plt.subplot(2, 1, 2)\n",
        "plot_metrics(train_accuracies, test_accuracies, xlabel=\"Epoch\", ylabel=\"Accuracy\", title=\"Accuracy\")"
      ]
    },
    {
      "cell_type": "markdown",
      "metadata": {},
      "source": [
        "### The control:"
      ]
    },
    {
      "cell_type": "code",
      "execution_count": 127,
      "metadata": {},
      "outputs": [
        {
          "name": "stderr",
          "output_type": "stream",
          "text": [
            "Epoch 60: 100%|██████████| 60/60 [08:23<00:00,  8.38s/it, test_accuracy=0.979, test_loss=0.11, train_accuracy=0.973, train_loss=0.101]  \n"
          ]
        },
        {
          "data": {
            "image/png": "[encoded data removed]",
            "text/plain": [
              "<Figure size 640x480 with 1 Axes>"
            ]
          },
          "metadata": {},
          "output_type": "display_data"
        },
        {
          "data": {
            "image/png": "[encoded data removed]",
            "text/plain": [
              "<Figure size 640x480 with 1 Axes>"
            ]
          },
          "metadata": {},
          "output_type": "display_data"
        }
      ],
      "source": [
        "batch_size = 128\n",
        "learning_rate = 1e-3\n",
        "epochs = 60\n",
        "input_dim = 784\n",
        "hidden_dim_list = [300, 100]\n",
        "output_dim = 10\n",
        "\n",
        "model_ctrl = SimpleMLP(input_dim=input_dim, output_dim=output_dim, hidden_dim_list=hidden_dim_list, dropout_prob=0.2)\n",
        "loss_fn = torch.nn.CrossEntropyLoss()\n",
        "optimizer = torch.optim.Adam(model_ctrl.parameters(), lr=learning_rate, weight_decay=1e-4)\n",
        "\n",
        "train_loader = torch.utils.data.DataLoader(train_dataset, batch_size=batch_size)\n",
        "test_loader = torch.utils.data.DataLoader(test_dataset, batch_size=batch_size)\n",
        "\n",
        "train_losses_ctrl, test_losses_ctrl, train_accuracies_ctrl, test_accuracies_ctrl = train(model_ctrl, loss_fn, train_loader, test_loader, optimizer, epochs=epochs, lambda_dropout=0.0)\n",
        "\n",
        "#save model\n",
        "save_path = 'data/model_ctrl.pth'\n",
        "torch.save(model_ctrl.state_dict(), save_path)\n",
        "\n",
        "plt.subplot(2, 1, 1)\n",
        "plot_metrics(train_losses_ctrl, test_losses_ctrl, xlabel=\"Epoch\", ylabel=\"Loss\", title=\"Loss\")\n",
        "plt.subplot(2, 1, 2)\n",
        "plot_metrics(train_accuracies_ctrl, test_accuracies_ctrl, xlabel=\"Epoch\", ylabel=\"Accuracy\", title=\"Accuracy\")"
      ]
    },
    {
      "cell_type": "markdown",
      "metadata": {},
      "source": [
        "### A closer look at the accuracy\n",
        "\n",
        "It's not easy to see the difference in performance\n",
        "between the two graphs.\n",
        "\n",
        "First, the range is too wide, since \n",
        "the graph captures the accuracy curve since initialization.\n",
        "\n",
        "Second, the curves are very jagged due to the sampling procedure.\n",
        "\n",
        "To remedy the first point,\n",
        "we restrict our data from the 20th epoch onward.\n",
        "\n",
        "To remedy the second point,\n",
        "we display moving averages of the accuracy\n",
        "over a large enough window."
      ]
    },
    {
      "cell_type": "code",
      "execution_count": 143,
      "metadata": {},
      "outputs": [
        {
          "data": {
            "image/png": "[encoded data removed]",
            "text/plain": [
              "<Figure size 640x480 with 1 Axes>"
            ]
          },
          "metadata": {},
          "output_type": "display_data"
        }
      ],
      "source": [
        "display_start_epoch = 10\n",
        "\n",
        "fit_acc = test_accuracies[display_start_epoch:]\n",
        "fit_acc_ctrl = test_accuracies_ctrl[display_start_epoch:]\n",
        "\n",
        "def moving_avg(arr, window_size):\n",
        "    left_offset = window_size // 2\n",
        "    right_offset = window_size - left_offset - 1\n",
        "    padded_arr = [arr[0]] * left_offset + arr + [arr[-1]] * right_offset\n",
        "    avgs = []\n",
        "    for i, _ in enumerate(arr):\n",
        "        window = padded_arr[i:i+window_size]\n",
        "        avgs.append(np.average(window))\n",
        "    return avgs\n",
        "\n",
        "moving_avg_window_size = 7\n",
        "\n",
        "fit_acc = moving_avg(fit_acc, moving_avg_window_size)\n",
        "fit_acc_ctrl = moving_avg(fit_acc_ctrl, moving_avg_window_size)\n",
        "\n",
        "ticks = np.arange(len(fit_acc) + 1)\n",
        "epochs = ticks + display_start_epoch\n",
        "\n",
        "ticks = ticks[::5]\n",
        "epochs = epochs[::5]\n",
        "\n",
        "\n",
        "plt.subplot(2, 1, 1)\n",
        "plt.plot(fit_acc, label=\"Model\")\n",
        "plt.plot(fit_acc_ctrl, label=\"Control\")\n",
        "plt.xticks(ticks=ticks, labels=epochs)\n",
        "plt.xlabel(\"Epoch\")\n",
        "plt.ylabel(\"Accuracy\")\n",
        "plt.title(f\"Accuracy moving averages over {moving_avg_window_size} epochs\")\n",
        "plt.legend()\n",
        "plt.show()"
      ]
    },
    {
      "cell_type": "markdown",
      "metadata": {
        "id": "T1TSCHSwBnCm"
      },
      "source": [
        "### Confusion Matrix\n",
        "\n",
        "We finish by plotting the confusion matrices of the model and the control."
      ]
    },
    {
      "cell_type": "code",
      "execution_count": 149,
      "metadata": {
        "colab": {
          "base_uri": "https://localhost:8080/"
        },
        "id": "LWQwO7vzBnCm",
        "outputId": "239ddeff-7c99-40e0-e0af-30a771d10150"
      },
      "outputs": [
        {
          "name": "stdout",
          "output_type": "stream",
          "text": [
            "Confusion matrix for the model:\n",
            "[[ 969    1    1    1    0    1    5    2    0    0]\n",
            " [   0 1127    2    1    0    0    4    0    1    0]\n",
            " [   1    1 1019    2    1    0    3    3    2    0]\n",
            " [   0    0    4  985    1   13    0    3    2    2]\n",
            " [   1    0    0    0  953    0    9    3    0   16]\n",
            " [   2    0    0    1    1  875    6    0    3    4]\n",
            " [   4    4    1    0    3    2  944    0    0    0]\n",
            " [   1   10   19    1    2    0    0  987    4    4]\n",
            " [   1    2    2    5    3    7    6    2  943    3]\n",
            " [   6    6    1    4    6    3    0    3    3  977]]\n",
            "Confusion matrix for the control:\n",
            "[[ 974    1    0    0    0    1    2    1    1    0]\n",
            " [   0 1126    2    2    0    0    1    2    2    0]\n",
            " [   7    1 1007    6    1    0    1    4    5    0]\n",
            " [   1    0    2  990    0    7    0    3    5    2]\n",
            " [   1    0    1    0  946    0    9    1    0   24]\n",
            " [   2    0    0    5    0  869    9    0    5    2]\n",
            " [   4    3    0    0    0    3  942    0    5    1]\n",
            " [   1    3    7    2    0    0    0 1004    3    8]\n",
            " [   4    0    2    4    4    2    2    3  949    4]\n",
            " [   2    2    0    3    4    2    4    3    3  986]]\n"
          ]
        },
        {
          "data": {
            "text/plain": [
              "<matplotlib.image.AxesImage at 0x1779c0c20>"
            ]
          },
          "execution_count": 149,
          "metadata": {},
          "output_type": "execute_result"
        },
        {
          "data": {
            "image/png": "[encoded data removed]",
            "text/plain": [
              "<Figure size 480x480 with 1 Axes>"
            ]
          },
          "metadata": {},
          "output_type": "display_data"
        },
        {
          "data": {
            "image/png": "[encoded data removed]",
            "text/plain": [
              "<Figure size 480x480 with 1 Axes>"
            ]
          },
          "metadata": {},
          "output_type": "display_data"
        }
      ],
      "source": [
        "from sklearn.metrics import confusion_matrix\n",
        "\n",
        "test_loader = torch.utils.data.DataLoader(test_dataset, batch_size=len(test_dataset))\n",
        "\n",
        "dataiter = iter(test_loader)\n",
        "data, target = next(dataiter)\n",
        "\n",
        "model.load_state_dict(torch.load('data/model.pth'))\n",
        "model.eval()  # set model to evaluation mode\n",
        "\n",
        "outputs = model(data)\n",
        "_, predicted = torch.max(outputs, 1)\n",
        "\n",
        "conf = confusion_matrix(target, predicted)\n",
        "\n",
        "print(\"Confusion matrix for the model:\")\n",
        "print(conf)\n",
        "plt.matshow(conf)\n",
        "\n",
        "model_ctrl.load_state_dict(torch.load('data/model_ctrl.pth'))\n",
        "model.eval()  # set model to evaluation mode\n",
        "\n",
        "outputs = model_ctrl(data)\n",
        "_, predicted = torch.max(outputs, 1)\n",
        "\n",
        "conf = confusion_matrix(target, predicted)\n",
        "\n",
        "print(\"Confusion matrix for the control:\")\n",
        "print(conf)\n",
        "plt.matshow(conf)\n",
        "\n"
      ]
    }
  ],
  "metadata": {
    "colab": {
      "provenance": []
    },
    "kernelspec": {
      "display_name": "project",
      "language": "python",
      "name": "python3"
    },
    "language_info": {
      "codemirror_mode": {
        "name": "ipython",
        "version": 3
      },
      "file_extension": ".py",
      "mimetype": "text/x-python",
      "name": "python",
      "nbconvert_exporter": "python",
      "pygments_lexer": "ipython3",
      "version": "3.12.7"
    }
  },
  "nbformat": 4,
  "nbformat_minor": 0
}
